{
  "nbformat": 4,
  "nbformat_minor": 0,
  "metadata": {
    "colab": {
      "provenance": [],
      "authorship_tag": "ABX9TyPZ+Y+p0Q1Ko42OAuYjbow2",
      "include_colab_link": true
    },
    "kernelspec": {
      "name": "python3",
      "display_name": "Python 3"
    },
    "language_info": {
      "name": "python"
    }
  },
  "cells": [
    {
      "cell_type": "markdown",
      "metadata": {
        "id": "view-in-github",
        "colab_type": "text"
      },
      "source": [
        "<a href=\"https://colab.research.google.com/github/VahidHedyati/colab-test/blob/main/test.ipynb\" target=\"_parent\"><img src=\"https://colab.research.google.com/assets/colab-badge.svg\" alt=\"Open In Colab\"/></a>"
      ]
    },
    {
      "cell_type": "code",
      "execution_count": null,
      "metadata": {
        "colab": {
          "base_uri": "https://localhost:8080/"
        },
        "id": "Ig_kPRaoPWk0",
        "outputId": "b40c250a-b525-49a0-c0d3-d032976bb81f"
      },
      "outputs": [
        {
          "output_type": "stream",
          "name": "stdout",
          "text": [
            "2\n",
            "0\n",
            "16\n"
          ]
        }
      ],
      "source": [
        "# 1. Explore the %, //, and ** operators with numerical examples.\n",
        "#از متغیر های موجود در قسمت Assigning variables استفاده میکنیم\n",
        "a = 2\n",
        "b = 4\n",
        "#برای نشون دادن عملگر ها نیاز داریم متغییر جدید تعریف کنیم\n",
        "c=(a % b)\n",
        "d=(a // b)\n",
        "e=(a ** b)\n",
        "#c باقیمانده تقسیم\n",
        "#d تقسیم\n",
        "#e توان\n",
        "print(c)\n",
        "print(d)\n",
        "print(e)\n"
      ]
    },
    {
      "cell_type": "code",
      "source": [
        "# 2. Check the type of %, //, and **. What do you conclude?\n",
        "a = 2\n",
        "b = 4\n",
        "c = 3.5\n",
        "# وقتی هر دو عدد، عدد صحیح (int) باشند:\n",
        "type(a % b)\n",
        "type(a // b)\n",
        "type(a ** b)\n",
        "\n",
        "# اگر یکی از آنها اعشاری باشئ\n",
        "type(a % c)\n",
        "type(a // c)\n",
        "type(a ** c)\n",
        "\n",
        "\n",
        "# پرینت\n",
        "print(type(a % b))\n",
        "print(type(a % c))\n",
        "\n",
        "#(نتیجه:\n",
        "#اگر هر دو عدد صحیح باشند، نتیجه نیز از نوع عدد صحیح است.\n",
        "#اگر یکی از آن‌ها اعشاری (float) باشد، نتیجه از نوع اعشاری خواهد بود.)"
      ],
      "metadata": {
        "colab": {
          "base_uri": "https://localhost:8080/"
        },
        "id": "601p7vLWPme-",
        "outputId": "b81a49f1-421f-452a-99ab-67681ba901d3"
      },
      "execution_count": null,
      "outputs": [
        {
          "output_type": "stream",
          "name": "stdout",
          "text": [
            "<class 'int'>\n",
            "<class 'float'>\n"
          ]
        }
      ]
    },
    {
      "cell_type": "code",
      "source": [
        "#3. Can you perform mathematical operations on sequential data types? Which types allow it, and with which types do errors occur?\n",
        "\n",
        "#نمونه متغیرها:\n",
        "string_1 = \"Hello\"\n",
        "list_1 = [\"Robert, 20, Marcus, 22\"]\n",
        "tuple_1 = (4, 5, 6)\n",
        "\n",
        "#عملیات مجاز\n",
        "string_1 * 2\n",
        "tuple_1 * 2\n",
        "list_1 + list_1\n",
        "#پرینت  مجاز ها\n",
        "print(string_1 * 2 )\n",
        "print(tuple_1 * 2 )\n",
        "print(list_1 + list_1)\n",
        "\n",
        "#عملیات غیر مجاز\n",
        "tuple_1 / 2\n",
        "data + data\n",
        "set1 - set2\n",
        "\n",
        "#نتیجه:\n",
        "#در نوع‌های ترتیبی مثل رشته (string)، لیست (list) و تاپل (tuple) فقط عملگرهای + (اتصال) و * (تکرار) مجاز هستند.\n",
        "#اما در دیکشنری (dict) و مجموعه (set) نمی‌توان از این عملگرهای ریاضی به‌صورت مستقیم استفاده کرد.\n"
      ],
      "metadata": {
        "colab": {
          "base_uri": "https://localhost:8080/",
          "height": 263
        },
        "id": "jni6sR1zSv4c",
        "outputId": "9b2a400b-d59c-45cf-e7d3-750f9caec446"
      },
      "execution_count": null,
      "outputs": [
        {
          "output_type": "stream",
          "name": "stdout",
          "text": [
            "HelloHello\n",
            "(4, 5, 6, 4, 5, 6)\n",
            "['Robert, 20, Marcus, 22', 'Robert, 20, Marcus, 22']\n"
          ]
        },
        {
          "output_type": "error",
          "ename": "TypeError",
          "evalue": "unsupported operand type(s) for /: 'tuple' and 'int'",
          "traceback": [
            "\u001b[0;31m---------------------------------------------------------------------------\u001b[0m",
            "\u001b[0;31mTypeError\u001b[0m                                 Traceback (most recent call last)",
            "\u001b[0;32m/tmp/ipython-input-2931735685.py\u001b[0m in \u001b[0;36m<cell line: 0>\u001b[0;34m()\u001b[0m\n\u001b[1;32m     16\u001b[0m \u001b[0;34m\u001b[0m\u001b[0m\n\u001b[1;32m     17\u001b[0m \u001b[0;31m#عملیات غیر مجاز\u001b[0m\u001b[0;34m\u001b[0m\u001b[0;34m\u001b[0m\u001b[0m\n\u001b[0;32m---> 18\u001b[0;31m \u001b[0mtuple_1\u001b[0m \u001b[0;34m/\u001b[0m \u001b[0;36m2\u001b[0m\u001b[0;34m\u001b[0m\u001b[0;34m\u001b[0m\u001b[0m\n\u001b[0m\u001b[1;32m     19\u001b[0m \u001b[0mdata\u001b[0m \u001b[0;34m+\u001b[0m \u001b[0mdata\u001b[0m\u001b[0;34m\u001b[0m\u001b[0;34m\u001b[0m\u001b[0m\n\u001b[1;32m     20\u001b[0m \u001b[0mset1\u001b[0m \u001b[0;34m-\u001b[0m \u001b[0mset2\u001b[0m\u001b[0;34m\u001b[0m\u001b[0;34m\u001b[0m\u001b[0m\n",
            "\u001b[0;31mTypeError\u001b[0m: unsupported operand type(s) for /: 'tuple' and 'int'"
          ]
        }
      ]
    }
  ]
}